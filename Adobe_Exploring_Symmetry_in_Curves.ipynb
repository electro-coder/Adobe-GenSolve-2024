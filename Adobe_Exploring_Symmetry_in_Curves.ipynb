{
  "nbformat": 4,
  "nbformat_minor": 0,
  "metadata": {
    "colab": {
      "provenance": []
    },
    "kernelspec": {
      "name": "python3",
      "display_name": "Python 3"
    },
    "language_info": {
      "name": "python"
    }
  },
  "cells": [
    {
      "cell_type": "code",
      "source": [
        "from google.colab import drive\n",
        "drive.mount('/content/drive')"
      ],
      "metadata": {
        "colab": {
          "base_uri": "https://localhost:8080/"
        },
        "id": "dHRRT9G1bB_t",
        "outputId": "9be105dd-9ec2-4a28-c2d2-e1522614dca3"
      },
      "execution_count": 1,
      "outputs": [
        {
          "output_type": "stream",
          "name": "stdout",
          "text": [
            "Mounted at /content/drive\n"
          ]
        }
      ]
    },
    {
      "cell_type": "code",
      "source": [
        "!pip install opencv-python\n",
        "!pip install numpy\n",
        "!pip install matplotlib\n",
        "!pip install scikit-fmm\n",
        "!pip install cairosvg\n",
        "!pip install svgwrite"
      ],
      "metadata": {
        "id": "rpuz6Jxnc-bq"
      },
      "execution_count": null,
      "outputs": []
    },
    {
      "cell_type": "code",
      "source": [
        "!unzip /content/drive/MyDrive/problems.zip"
      ],
      "metadata": {
        "id": "uEA3fuoEBwdA",
        "colab": {
          "base_uri": "https://localhost:8080/"
        },
        "outputId": "f4b0cc13-7bd9-4e6f-bfca-79d8f57bec6e"
      },
      "execution_count": 4,
      "outputs": [
        {
          "output_type": "stream",
          "name": "stdout",
          "text": [
            "Archive:  /content/drive/MyDrive/problems.zip\n",
            "replace problems/occlusion2.csv? [y]es, [n]o, [A]ll, [N]one, [r]ename: n\n",
            "replace problems/occlusion1.csv? [y]es, [n]o, [A]ll, [N]one, [r]ename: n\n",
            "replace problems/.DS_Store? [y]es, [n]o, [A]ll, [N]one, [r]ename: "
          ]
        }
      ]
    },
    {
      "cell_type": "code",
      "source": [
        "import cairosvg\n",
        "import os\n",
        "\n",
        "def convert_svg_to_jpg(svg_path, output_folder):\n",
        "    filename = os.path.splitext(os.path.basename(svg_path))[0]\n",
        "    output_path = os.path.join(output_folder, filename + '.jpg')\n",
        "\n",
        "    cairosvg.svg2png(url=svg_path, write_to=output_path)\n",
        "    print(f\"Converted {svg_path} to {output_path}\")"
      ],
      "metadata": {
        "id": "jw88jQ3yekoX"
      },
      "execution_count": null,
      "outputs": []
    },
    {
      "cell_type": "code",
      "source": [
        "svg_file = \"/content/problems/occlusion1.svg\"\n",
        "output_dir = \"/content/problems/\"\n",
        "\n",
        "convert_svg_to_jpg(svg_file, output_dir)"
      ],
      "metadata": {
        "colab": {
          "base_uri": "https://localhost:8080/"
        },
        "id": "m5ufWjsbe_8a",
        "outputId": "0ffe49ab-bad7-43e1-e978-7a3f88ab0f8e"
      },
      "execution_count": null,
      "outputs": [
        {
          "output_type": "stream",
          "name": "stdout",
          "text": [
            "Converted /content/problems/occlusion1.svg to /content/problems/occlusion1.jpg\n"
          ]
        }
      ]
    },
    {
      "cell_type": "code",
      "execution_count": 5,
      "metadata": {
        "id": "ASr3CEoG9OdG"
      },
      "outputs": [],
      "source": [
        "import cv2\n",
        "import numpy as np\n",
        "import matplotlib.pyplot as plt\n",
        "import pandas as pd"
      ]
    },
    {
      "cell_type": "code",
      "source": [
        "def preprocess_image(image_path):\n",
        "    image = cv2.imread(image_path, cv2.IMREAD_GRAYSCALE)\n",
        "    blurred = cv2.GaussianBlur(image, (5, 5), 0)\n",
        "    edges = cv2.Canny(blurred, 50, 150)\n",
        "    contours, _ = cv2.findContours(edges, cv2.RETR_EXTERNAL, cv2.CHAIN_APPROX_SIMPLE)\n",
        "    return contours"
      ],
      "metadata": {
        "id": "wq9zJ0oQ-Xur"
      },
      "execution_count": null,
      "outputs": []
    },
    {
      "cell_type": "code",
      "source": [
        "def extract_features(contours):\n",
        "    shapes = []\n",
        "    for contour in contours:\n",
        "        epsilon = 0.01 * cv2.arcLength(contour, True)\n",
        "        approx = cv2.approxPolyDP(contour, epsilon, True)\n",
        "        x, y, w, h = cv2.boundingRect(approx)\n",
        "        aspect_ratio = float(w) / h\n",
        "        area = cv2.contourArea(contour)\n",
        "        perimeter = cv2.arcLength(contour, True)\n",
        "        if len(approx) == 2:\n",
        "            shape = \"Line\"\n",
        "        elif len(approx) == 3:\n",
        "            shape = \"Triangle\"\n",
        "        elif len(approx) == 4:\n",
        "            shape = \"Rectangle\" if 0.95 <= aspect_ratio <= 1.05 else \"Quadrilateral\"\n",
        "            if shape == \"Rectangle\":\n",
        "                is_rounded = False\n",
        "                for i in range(len(approx)):\n",
        "                    p1 = approx[i][0]\n",
        "                    p2 = approx[(i + 1) % len(approx)][0]\n",
        "                    corner_angle = np.degrees(np.arctan2(p2[1] - p1[1], p2[0] - p1[0]))\n",
        "                    if 75 < corner_angle < 105 or -105 < corner_angle < -75:\n",
        "                        is_rounded = True\n",
        "                        break\n",
        "                if is_rounded:\n",
        "                    shape = \"Rounded Rectangle\"\n",
        "        elif len(approx) > 10:\n",
        "            (x, y), (MA, ma), angle = cv2.fitEllipse(approx)\n",
        "            shape = \"Circle\" if 0.95 <= MA / ma <= 1.05 else \"Ellipse\"\n",
        "        else:\n",
        "            shape = \"Polygon\"\n",
        "        shapes.append((shape, approx, area, perimeter))\n",
        "    return shapes"
      ],
      "metadata": {
        "id": "SYmAh1ly-beM"
      },
      "execution_count": null,
      "outputs": []
    },
    {
      "cell_type": "code",
      "source": [
        "def classify_shapes(shapes):\n",
        "    classified_shapes = []\n",
        "    for shape, approx, area, perimeter in shapes:\n",
        "        if shape == \"Line\":\n",
        "            classified_shapes.append((\"Line\", approx))\n",
        "        elif shape == \"Triangle\":\n",
        "            classified_shapes.append((\"Triangle\", approx))\n",
        "        elif shape == \"Rectangle\":\n",
        "            classified_shapes.append((\"Rectangle\", approx))\n",
        "        elif shape == \"Rounded Rectangle\":\n",
        "            classified_shapes.append((\"Rounded Rectangle\", approx))\n",
        "        elif shape == \"Circle\":\n",
        "            classified_shapes.append((\"Circle\", approx))\n",
        "        elif shape == \"Ellipse\":\n",
        "            classified_shapes.append((\"Ellipse\", approx))\n",
        "        elif shape == \"Polygon\":\n",
        "            if len(approx) == 5:\n",
        "                classified_shapes.append((\"Pentagon\", approx))\n",
        "            elif len(approx) == 6:\n",
        "                classified_shapes.append((\"Hexagon\", approx))\n",
        "            elif len(approx) == 7:\n",
        "                classified_shapes.append((\"Heptagon\", approx))\n",
        "            elif len(approx) == 8:\n",
        "                classified_shapes.append((\"Octagon\", approx))\n",
        "            else:\n",
        "                classified_shapes.append((\"Polygon\", approx))\n",
        "    return classified_shapes"
      ],
      "metadata": {
        "id": "CApsZPF8-fbV"
      },
      "execution_count": null,
      "outputs": []
    },
    {
      "cell_type": "code",
      "source": [
        "def visualize_shapes(image_path, classified_shapes):\n",
        "    image = cv2.imread(image_path)\n",
        "    for shape, approx in classified_shapes:\n",
        "        cv2.drawContours(image, [approx], 0, (0, 255, 0), 2)\n",
        "        x, y = approx[0][0]\n",
        "        cv2.putText(image, shape, (x, y), cv2.FONT_HERSHEY_SIMPLEX, 0.5, (255, 0, 0), 2)\n",
        "    plt.imshow(cv2.cvtColor(image, cv2.COLOR_BGR2RGB))\n",
        "    plt.show()"
      ],
      "metadata": {
        "id": "QohQ6pPs-j_F"
      },
      "execution_count": null,
      "outputs": []
    },
    {
      "cell_type": "code",
      "source": [
        "def read_csv_(csv_path):\n",
        "    np_path_XYs = np.genfromtxt(csv_path, delimiter=',')\n",
        "    path_XYs = []\n",
        "    for i in np.unique(np_path_XYs[:, 0]):\n",
        "        npXYs = np_path_XYs[np_path_XYs[:, 0] == i][:, 1:]\n",
        "        XYs = []\n",
        "        for j in np.unique(npXYs[:, 0]):\n",
        "            XY = npXYs[npXYs[:, 0] == j][:, 1:]\n",
        "            XYs.append(XY)\n",
        "        path_XYs.append(XYs)\n",
        "    return path_XYs"
      ],
      "metadata": {
        "id": "19to4nnAPlfa"
      },
      "execution_count": 7,
      "outputs": []
    },
    {
      "cell_type": "code",
      "source": [
        "def load_image_from_csv(csv_file):\n",
        "    df = pd.read_csv(csv_file, header=None)\n",
        "    image_array = df.to_numpy().astype(np.uint8)\n",
        "    return image_array"
      ],
      "metadata": {
        "id": "sP-k7EH82TZP"
      },
      "execution_count": 8,
      "outputs": []
    },
    {
      "cell_type": "code",
      "source": [
        "def detect_curves(image):\n",
        "    gray_image = cv2.cvtColor(image, cv2.COLOR_BGR2GRAY) if len(image.shape) == 3 else image\n",
        "    edges = cv2.Canny(gray_image, 50, 150)\n",
        "    contours, _ = cv2.findContours(edges, cv2.RETR_EXTERNAL, cv2.CHAIN_APPROX_SIMPLE)\n",
        "    return contours"
      ],
      "metadata": {
        "id": "ZbDv66Vu2ctK"
      },
      "execution_count": 9,
      "outputs": []
    },
    {
      "cell_type": "code",
      "source": [
        "def estimate_control_points(P0, P3, tangent0, tangent3, distance=0.3):\n",
        "    tangent0 = tangent0 / np.linalg.norm(tangent0)\n",
        "    tangent3 = tangent3 / np.linalg.norm(tangent3)\n",
        "    P1 = P0 + distance * tangent0 * np.linalg.norm(P3 - P0)\n",
        "    P2 = P3 - distance * tangent3 * np.linalg.norm(P3 - P0)\n",
        "    return P1, P2"
      ],
      "metadata": {
        "id": "wZ4TRIoN2jBi"
      },
      "execution_count": 10,
      "outputs": []
    },
    {
      "cell_type": "code",
      "source": [
        "def bezier_curve(P0, P1, P2, P3, num_points=100):\n",
        "    t_values = np.linspace(0, 1, num_points)\n",
        "    curve = np.zeros((num_points, 2))\n",
        "    for i, t in enumerate(t_values):\n",
        "        curve[i] = (\n",
        "            (1-t)**3 * P0 +\n",
        "            3*(1-t)**2 * t * P1 +\n",
        "            3*(1-t) * t**2 * P2 +\n",
        "            t**3 * P3\n",
        "        )\n",
        "    return curve"
      ],
      "metadata": {
        "id": "Cm8NJLx3JxgV"
      },
      "execution_count": 11,
      "outputs": []
    },
    {
      "cell_type": "code",
      "source": [
        "def fit_bezier_curve(contour, num_points=100):\n",
        "    if len(contour) < 2:\n",
        "        return np.array([])\n",
        "    points = contour.reshape(-1, 2)\n",
        "    P0, P3 = points[0], points[-1]\n",
        "    tangent0 = points[1] - points[0]\n",
        "    tangent3 = points[-1] - points[-2]\n",
        "    distance = np.linalg.norm(P3 - P0) * 0.3\n",
        "    P1, P2 = estimate_control_points(P0, P3, tangent0, tangent3, distance)\n",
        "    bezier_points = bezier_curve(P0, P1, P2, P3, num_points)\n",
        "    return bezier_points"
      ],
      "metadata": {
        "id": "4L0KJeXeJzXI"
      },
      "execution_count": 12,
      "outputs": []
    },
    {
      "cell_type": "code",
      "source": [
        "def find_symmetry_lines(bezier_curves):\n",
        "    symmetry_lines = []\n",
        "    # heuristic\n",
        "    for curve in bezier_curves:\n",
        "        curve = np.array(curve)\n",
        "        centroid = np.mean(curve, axis=0)\n",
        "        symmetry_lines.append([centroid[0], centroid[1], centroid[0] + 100, centroid[1] + 100])\n",
        "\n",
        "    return symmetry_lines"
      ],
      "metadata": {
        "id": "kQaPjiSS2rvD"
      },
      "execution_count": 13,
      "outputs": []
    },
    {
      "cell_type": "code",
      "source": [
        "def draw_symmetry_lines(image, symmetry_lines):\n",
        "    plt.figure(figsize=(10, 10))\n",
        "    plt.imshow(image, cmap='gray')\n",
        "    plt.axis('off')\n",
        "\n",
        "    for line in symmetry_lines:\n",
        "        plt.plot([line[0], line[2]], [line[1], line[3]], 'r-', lw=2)\n",
        "\n",
        "    plt.show()"
      ],
      "metadata": {
        "id": "2HJRdp8R2vjb"
      },
      "execution_count": 14,
      "outputs": []
    },
    {
      "cell_type": "code",
      "source": [
        "csv_path = '/content/problems/frag0.csv'\n",
        "path_XYs = read_csv_(csv_path)\n",
        "image = load_image_from_csv('/content/problems/frag0.csv')\n",
        "curves = detect_curves(image)\n",
        "bezier_curves = [fit_bezier_curve(curve) for curve in curves]\n",
        "symmetry_lines = find_symmetry_lines(bezier_curves)\n",
        "draw_symmetry_lines(image, symmetry_lines)"
      ],
      "metadata": {
        "id": "l8lC6ZOb2Zwq",
        "colab": {
          "base_uri": "https://localhost:8080/",
          "height": 807
        },
        "outputId": "ff6f8cb9-961e-4825-87ec-1295cf920da4"
      },
      "execution_count": 23,
      "outputs": [
        {
          "output_type": "display_data",
          "data": {
            "text/plain": [
              "<Figure size 1000x1000 with 1 Axes>"
            ],
            "image/png": "[encoded data removed]"
          },
          "metadata": {}
        }
      ]
    },
    {
      "cell_type": "code",
      "source": [
        "csv_path = '/content/problems/frag1.csv'\n",
        "path_XYs = read_csv_(csv_path)\n",
        "image = load_image_from_csv('/content/problems/frag1.csv')\n",
        "curves = detect_curves(image)\n",
        "bezier_curves = [fit_bezier_curve(curve) for curve in curves]\n",
        "symmetry_lines = find_symmetry_lines(bezier_curves)\n",
        "draw_symmetry_lines(image, symmetry_lines)"
      ],
      "metadata": {
        "id": "FDzLDI962fFK",
        "colab": {
          "base_uri": "https://localhost:8080/",
          "height": 807
        },
        "outputId": "7c7c6ae1-79f0-4ac1-96f9-4762f591449f"
      },
      "execution_count": 27,
      "outputs": [
        {
          "output_type": "display_data",
          "data": {
            "text/plain": [
              "<Figure size 1000x1000 with 1 Axes>"
            ],
            "image/png": "[encoded data removed]"
          },
          "metadata": {}
        }
      ]
    },
    {
      "cell_type": "code",
      "source": [
        "csv_path = '/content/problems/frag2.csv'\n",
        "path_XYs = read_csv_(csv_path)\n",
        "image = load_image_from_csv('/content/problems/frag2.csv')\n",
        "curves = detect_curves(image)\n",
        "bezier_curves = [fit_bezier_curve(curve) for curve in curves]\n",
        "symmetry_lines = find_symmetry_lines(bezier_curves)\n",
        "draw_symmetry_lines(image, symmetry_lines)"
      ],
      "metadata": {
        "id": "v5snv_bR2n2J",
        "colab": {
          "base_uri": "https://localhost:8080/",
          "height": 807
        },
        "outputId": "437942b0-6fa5-42ac-9938-deca9235c2f7"
      },
      "execution_count": 26,
      "outputs": [
        {
          "output_type": "display_data",
          "data": {
            "text/plain": [
              "<Figure size 1000x1000 with 1 Axes>"
            ],
            "image/png": "[encoded data removed]"
          },
          "metadata": {}
        }
      ]
    },
    {
      "cell_type": "code",
      "source": [
        "csv_path = '/content/problems/isolated.csv'\n",
        "path_XYs = read_csv_(csv_path)\n",
        "image = load_image_from_csv('/content/problems/isolated.csv')\n",
        "curves = detect_curves(image)\n",
        "bezier_curves = [fit_bezier_curve(curve) for curve in curves]\n",
        "symmetry_lines = find_symmetry_lines(bezier_curves)\n",
        "draw_symmetry_lines(image, symmetry_lines)"
      ],
      "metadata": {
        "id": "EMNY7-ll2ttd",
        "colab": {
          "base_uri": "https://localhost:8080/",
          "height": 807
        },
        "outputId": "1938bb02-a62a-40cc-e05a-20d9edcfec69"
      },
      "execution_count": 25,
      "outputs": [
        {
          "output_type": "display_data",
          "data": {
            "text/plain": [
              "<Figure size 1000x1000 with 1 Axes>"
            ],
            "image/png": "[encoded data removed]"
          },
          "metadata": {}
        }
      ]
    },
    {
      "cell_type": "code",
      "source": [
        "csv_path = '/content/problems/occlusion1.csv'\n",
        "path_XYs = read_csv_(csv_path)\n",
        "image = load_image_from_csv('/content/problems/occlusion1.csv')\n",
        "curves = detect_curves(image)\n",
        "bezier_curves = [fit_bezier_curve(curve) for curve in curves]\n",
        "symmetry_lines = find_symmetry_lines(bezier_curves)\n",
        "draw_symmetry_lines(image, symmetry_lines)"
      ],
      "metadata": {
        "colab": {
          "base_uri": "https://localhost:8080/",
          "height": 807
        },
        "id": "abPnHdER20x8",
        "outputId": "a9797f4f-c6fa-41f6-e151-c8df01f57023"
      },
      "execution_count": 24,
      "outputs": [
        {
          "output_type": "display_data",
          "data": {
            "text/plain": [
              "<Figure size 1000x1000 with 1 Axes>"
            ],
            "image/png": "[encoded data removed]"
          },
          "metadata": {}
        }
      ]
    },
    {
      "cell_type": "code",
      "source": [
        "csv_path = '/content/problems/occlusion2.csv'\n",
        "path_XYs = read_csv_(csv_path)\n",
        "image = load_image_from_csv('/content/problems/occlusion2.csv')\n",
        "curves = detect_curves(image)\n",
        "bezier_curves = [fit_bezier_curve(curve) for curve in curves]\n",
        "symmetry_lines = find_symmetry_lines(bezier_curves)\n",
        "draw_symmetry_lines(image, symmetry_lines)"
      ],
      "metadata": {
        "colab": {
          "base_uri": "https://localhost:8080/",
          "height": 807
        },
        "outputId": "835b7772-0d58-4a4a-a5c0-c1bf063c6f38",
        "id": "OqeHNiKPKaT1"
      },
      "execution_count": 28,
      "outputs": [
        {
          "output_type": "display_data",
          "data": {
            "text/plain": [
              "<Figure size 1000x1000 with 1 Axes>"
            ],
            "image/png": "[encoded data removed]"
          },
          "metadata": {}
        }
      ]
    }
  ]
}
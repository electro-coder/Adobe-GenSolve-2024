{
  "nbformat": 4,
  "nbformat_minor": 0,
  "metadata": {
    "colab": {
      "provenance": []
    },
    "kernelspec": {
      "name": "python3",
      "display_name": "Python 3"
    },
    "language_info": {
      "name": "python"
    }
  },
  "cells": [
    {
      "cell_type": "code",
      "source": [
        "from google.colab import drive\n",
        "drive.mount('/content/drive')"
      ],
      "metadata": {
        "colab": {
          "base_uri": "https://localhost:8080/"
        },
        "id": "dHRRT9G1bB_t",
        "outputId": "52a688bf-787f-4c59-9ea9-d66a258dd837"
      },
      "execution_count": 1,
      "outputs": [
        {
          "output_type": "stream",
          "name": "stdout",
          "text": [
            "Mounted at /content/drive\n"
          ]
        }
      ]
    },
    {
      "cell_type": "code",
      "source": [
        "!pip install opencv-python\n",
        "!pip install numpy\n",
        "!pip install matplotlib\n",
        "!pip install scikit-fmm\n",
        "!pip install cairosvg\n",
        "!pip install svgwrite"
      ],
      "metadata": {
        "id": "rpuz6Jxnc-bq"
      },
      "execution_count": null,
      "outputs": []
    },
    {
      "cell_type": "code",
      "source": [
        "!unzip /content/drive/MyDrive/problems.zip"
      ],
      "metadata": {
        "id": "uEA3fuoEBwdA",
        "colab": {
          "base_uri": "https://localhost:8080/"
        },
        "outputId": "f33ca903-1da3-45d6-89c7-e24736dab410"
      },
      "execution_count": null,
      "outputs": [
        {
          "output_type": "stream",
          "name": "stdout",
          "text": [
            "Archive:  /content/drive/MyDrive/problems.zip\n",
            "   creating: problems/\n",
            "  inflating: problems/occlusion2.csv  \n",
            "  inflating: problems/occlusion1.csv  \n",
            "  inflating: problems/.DS_Store      \n",
            "  inflating: __MACOSX/problems/._.DS_Store  \n",
            "  inflating: problems/occlusion1_sol.svg  \n",
            "  inflating: problems/frag01_sol.svg  \n",
            "  inflating: problems/frag1.csv      \n",
            "  inflating: problems/frag0.csv      \n",
            "  inflating: problems/frag2.csv      \n",
            "  inflating: problems/isolated.csv   \n",
            "  inflating: problems/occlusion2_sol.svg  \n",
            "  inflating: __MACOSX/problems/._occlusion2_sol.svg  \n",
            "  inflating: problems/frag2_sol.csv  \n",
            "  inflating: problems/isolated_sol.csv  \n",
            "  inflating: problems/occlusion1_sol.csv  \n",
            "  inflating: problems/occlusion1_sol_rec.png  \n",
            "  inflating: problems/occlusion2_sol_rec.svg  \n",
            "  inflating: problems/occlusion2_rec.svg  \n",
            "  inflating: problems/frag01_sol.csv  \n",
            "  inflating: problems/occlusion2.svg  \n",
            "  inflating: problems/occlusion1_rec.png  \n",
            "  inflating: problems/occlusion1.svg  \n",
            "  inflating: __MACOSX/problems/._occlusion1.svg  \n",
            "  inflating: problems/isolated.svg   \n",
            "  inflating: problems/occlusion1_rec.svg  \n",
            "  inflating: problems/frag2_sol.svg  \n",
            "  inflating: problems/occlusion2_sol.csv  \n",
            "  inflating: problems/isolated_sol.svg  \n",
            "  inflating: problems/frag1.svg      \n",
            "  inflating: problems/frag0.svg      \n",
            "  inflating: problems/frag2.svg      \n",
            "  inflating: problems/occlusion2_sol_rec.png  \n",
            "  inflating: problems/occlusion1_sol_rec.svg  \n",
            "  inflating: problems/occlusion2_rec.png  \n"
          ]
        }
      ]
    },
    {
      "cell_type": "code",
      "execution_count": 16,
      "metadata": {
        "id": "ASr3CEoG9OdG"
      },
      "outputs": [],
      "source": [
        "import cv2\n",
        "import numpy as np\n",
        "import matplotlib.pyplot as plt\n",
        "import pandas as pd\n",
        "import svgwrite\n",
        "import cairosvg\n",
        "import os"
      ]
    },
    {
      "cell_type": "code",
      "source": [
        "def convert_svg_to_jpg(svg_path, output_folder):\n",
        "    filename = os.path.splitext(os.path.basename(svg_path))[0]\n",
        "    output_path = os.path.join(output_folder, filename + '.jpg')\n",
        "\n",
        "    cairosvg.svg2png(url=svg_path, write_to=output_path)\n",
        "    print(f\"Converted {svg_path} to {output_path}\")"
      ],
      "metadata": {
        "id": "jw88jQ3yekoX"
      },
      "execution_count": null,
      "outputs": []
    },
    {
      "cell_type": "code",
      "source": [
        "svg_file = \"/content/problems/occlusion1.svg\"\n",
        "output_dir = \"/content/problems/\"\n",
        "\n",
        "convert_svg_to_jpg(svg_file, output_dir)"
      ],
      "metadata": {
        "colab": {
          "base_uri": "https://localhost:8080/"
        },
        "id": "m5ufWjsbe_8a",
        "outputId": "0ffe49ab-bad7-43e1-e978-7a3f88ab0f8e"
      },
      "execution_count": null,
      "outputs": [
        {
          "output_type": "stream",
          "name": "stdout",
          "text": [
            "Converted /content/problems/occlusion1.svg to /content/problems/occlusion1.jpg\n"
          ]
        }
      ]
    },
    {
      "cell_type": "code",
      "source": [
        "def preprocess_image(image_path):\n",
        "    image = cv2.imread(image_path, cv2.IMREAD_GRAYSCALE)\n",
        "    blurred = cv2.GaussianBlur(image, (5, 5), 0)\n",
        "    edges = cv2.Canny(blurred, 50, 150)\n",
        "    contours, _ = cv2.findContours(edges, cv2.RETR_EXTERNAL, cv2.CHAIN_APPROX_SIMPLE)\n",
        "    return contours"
      ],
      "metadata": {
        "id": "wq9zJ0oQ-Xur"
      },
      "execution_count": 4,
      "outputs": []
    },
    {
      "cell_type": "code",
      "source": [
        "def extract_features(contours):\n",
        "    shapes = []\n",
        "    for contour in contours:\n",
        "        epsilon = 0.01 * cv2.arcLength(contour, True)\n",
        "        approx = cv2.approxPolyDP(contour, epsilon, True)\n",
        "        x, y, w, h = cv2.boundingRect(approx)\n",
        "        aspect_ratio = float(w) / h\n",
        "        area = cv2.contourArea(contour)\n",
        "        perimeter = cv2.arcLength(contour, True)\n",
        "        if len(approx) == 2:\n",
        "            shape = \"Line\"\n",
        "        elif len(approx) == 3:\n",
        "            shape = \"Triangle\"\n",
        "        elif len(approx) == 4:\n",
        "            shape = \"Rectangle\" if 0.95 <= aspect_ratio <= 1.05 else \"Quadrilateral\"\n",
        "            if shape == \"Rectangle\":\n",
        "                is_rounded = False\n",
        "                for i in range(len(approx)):\n",
        "                    p1 = approx[i][0]\n",
        "                    p2 = approx[(i + 1) % len(approx)][0]\n",
        "                    corner_angle = np.degrees(np.arctan2(p2[1] - p1[1], p2[0] - p1[0]))\n",
        "                    if 75 < corner_angle < 105 or -105 < corner_angle < -75:\n",
        "                        is_rounded = True\n",
        "                        break\n",
        "                if is_rounded:\n",
        "                    shape = \"Rounded Rectangle\"\n",
        "        elif len(approx) > 10:\n",
        "            (x, y), (MA, ma), angle = cv2.fitEllipse(approx)\n",
        "            shape = \"Circle\" if 0.95 <= MA / ma <= 1.05 else \"Ellipse\"\n",
        "        else:\n",
        "            shape = \"Polygon\"\n",
        "        shapes.append((shape, approx, area, perimeter))\n",
        "    return shapes"
      ],
      "metadata": {
        "id": "SYmAh1ly-beM"
      },
      "execution_count": 5,
      "outputs": []
    },
    {
      "cell_type": "code",
      "source": [
        "def classify_shapes(shapes):\n",
        "    classified_shapes = []\n",
        "    for shape, approx, area, perimeter in shapes:\n",
        "        if shape == \"Line\":\n",
        "            classified_shapes.append((\"Line\", approx))\n",
        "        elif shape == \"Triangle\":\n",
        "            classified_shapes.append((\"Triangle\", approx))\n",
        "        elif shape == \"Rectangle\":\n",
        "            classified_shapes.append((\"Rectangle\", approx))\n",
        "        elif shape == \"Rounded Rectangle\":\n",
        "            classified_shapes.append((\"Rounded Rectangle\", approx))\n",
        "        elif shape == \"Circle\":\n",
        "            classified_shapes.append((\"Circle\", approx))\n",
        "        elif shape == \"Ellipse\":\n",
        "            classified_shapes.append((\"Ellipse\", approx))\n",
        "        elif shape == \"Polygon\":\n",
        "            if len(approx) == 5:\n",
        "                classified_shapes.append((\"Pentagon\", approx))\n",
        "            elif len(approx) == 6:\n",
        "                classified_shapes.append((\"Hexagon\", approx))\n",
        "            elif len(approx) == 7:\n",
        "                classified_shapes.append((\"Heptagon\", approx))\n",
        "            elif len(approx) == 8:\n",
        "                classified_shapes.append((\"Octagon\", approx))\n",
        "            else:\n",
        "                classified_shapes.append((\"Polygon\", approx))\n",
        "    return classified_shapes"
      ],
      "metadata": {
        "id": "CApsZPF8-fbV"
      },
      "execution_count": 6,
      "outputs": []
    },
    {
      "cell_type": "code",
      "source": [
        "def visualize_shapes(image_path, classified_shapes):\n",
        "    image = cv2.imread(image_path)\n",
        "    for shape, approx in classified_shapes:\n",
        "        cv2.drawContours(image, [approx], 0, (0, 255, 0), 2)\n",
        "        x, y = approx[0][0]\n",
        "        cv2.putText(image, shape, (x, y), cv2.FONT_HERSHEY_SIMPLEX, 0.5, (255, 0, 0), 2)\n",
        "    plt.imshow(cv2.cvtColor(image, cv2.COLOR_BGR2RGB))\n",
        "    plt.show()"
      ],
      "metadata": {
        "id": "QohQ6pPs-j_F"
      },
      "execution_count": 7,
      "outputs": []
    },
    {
      "cell_type": "code",
      "source": [
        "def read_csv_(csv_path):\n",
        "    np_path_XYs = np.genfromtxt(csv_path, delimiter=',')\n",
        "    path_XYs = []\n",
        "    for i in np.unique(np_path_XYs[:, 0]):\n",
        "        npXYs = np_path_XYs[np_path_XYs[:, 0] == i][:, 1:]\n",
        "        XYs = []\n",
        "        for j in np.unique(npXYs[:, 0]):\n",
        "            XY = npXYs[npXYs[:, 0] == j][:, 1:]\n",
        "            XYs.append(XY)\n",
        "        path_XYs.append(XYs)\n",
        "    return path_XYs"
      ],
      "metadata": {
        "id": "19to4nnAPlfa"
      },
      "execution_count": 8,
      "outputs": []
    },
    {
      "cell_type": "code",
      "source": [
        "def is_high_curvature(p0, p1, p2, threshold=0.1):\n",
        "    v1 = p1 - p0\n",
        "    v2 = p2 - p1\n",
        "    angle = np.arccos(np.dot(v1, v2) / (np.linalg.norm(v1) * np.linalg.norm(v2)))\n",
        "    return angle > threshold"
      ],
      "metadata": {
        "id": "-I10Bx_3Ar8M"
      },
      "execution_count": 9,
      "outputs": []
    },
    {
      "cell_type": "code",
      "source": [
        "def find_endpoints(curve, curvature_threshold=0.3):\n",
        "    endpoints = []\n",
        "    for i in range(1, len(curve) - 1):\n",
        "        # Vectors representing the segments before and after the point\n",
        "        v1 = curve[i] - curve[i - 1]\n",
        "        v2 = curve[i + 1] - curve[i]\n",
        "\n",
        "        # Normalize the vectors\n",
        "        v1 = v1 / np.linalg.norm(v1)\n",
        "        v2 = v2 / np.linalg.norm(v2)\n",
        "\n",
        "        # Reshape vectors to be 1D for dot product\n",
        "        v1 = v1.reshape(-1)\n",
        "        v2 = v2.reshape(-1)\n",
        "\n",
        "        # Calculate the angle between the vectors\n",
        "        angle = np.arccos(np.clip(np.dot(v1, v2), -1.0, 1.0))\n",
        "\n",
        "        # If the angle is sharp (high curvature), consider it an endpoint\n",
        "        if angle > curvature_threshold:\n",
        "            endpoints.append(curve[i])\n",
        "\n",
        "    # Include the first and last points as endpoints\n",
        "    endpoints.append(curve[0])\n",
        "    endpoints.append(curve[-1])\n",
        "\n",
        "    return np.array(endpoints)"
      ],
      "metadata": {
        "id": "TF_kLqD3Cyya"
      },
      "execution_count": 10,
      "outputs": []
    },
    {
      "cell_type": "code",
      "source": [
        "def estimate_control_points(P0, P3, tangent0, tangent3, distance=0.3):\n",
        "    \"\"\"\n",
        "    Estimate the control points for a cubic Bezier curve given the\n",
        "    start and end points and their tangents.\n",
        "\n",
        "    Parameters:\n",
        "    - P0: The starting point of the curve.\n",
        "    - P3: The ending point of the curve.\n",
        "    - tangent0: The tangent vector at the starting point P0.\n",
        "    - tangent3: The tangent vector at the ending point P3.\n",
        "    - distance: A factor controlling the distance of control points\n",
        "    from the endpoints.\n",
        "\n",
        "    Returns:\n",
        "    - P1: The first control point.\n",
        "    - P2: The second control point.\n",
        "    \"\"\"\n",
        "\n",
        "    # Normalize the tangent vectors\n",
        "    tangent0 = tangent0 / np.linalg.norm(tangent0)\n",
        "    tangent3 = tangent3 / np.linalg.norm(tangent3)\n",
        "\n",
        "    # Estimate control points\n",
        "    P1 = P0 + distance * tangent0 * np.linalg.norm(P3 - P0)\n",
        "    P2 = P3 - distance * tangent3 * np.linalg.norm(P3 - P0)\n",
        "\n",
        "    return P1, P2"
      ],
      "metadata": {
        "id": "LJa9bUHXDan4"
      },
      "execution_count": 11,
      "outputs": []
    },
    {
      "cell_type": "code",
      "source": [
        "def bezier_curve(P0, P1, P2, P3, num_points=100):\n",
        "    \"\"\"\n",
        "    Generate a cubic Bezier curve given four control points.\n",
        "\n",
        "    Parameters:\n",
        "    - P0: The starting point of the curve.\n",
        "    - P1: The first control point.\n",
        "    - P2: The second control point.\n",
        "    - P3: The ending point of the curve.\n",
        "    - num_points: Number of points to generate on the curve.\n",
        "\n",
        "    Returns:\n",
        "    - curve: A numpy array of points representing the Bezier curve.\n",
        "    \"\"\"\n",
        "    t_values = np.linspace(0, 1, num_points)\n",
        "    curve = np.zeros((num_points, 2))\n",
        "\n",
        "    for i, t in enumerate(t_values):\n",
        "        curve[i] = (\n",
        "            (1-t)**3 * P0 +\n",
        "            3*(1-t)**2 * t * P1 +\n",
        "            3*(1-t) * t**2 * P2 +\n",
        "            t**3 * P3\n",
        "        )\n",
        "\n",
        "    return curve"
      ],
      "metadata": {
        "id": "X_ZiZXIJD9Y4"
      },
      "execution_count": 12,
      "outputs": []
    },
    {
      "cell_type": "code",
      "source": [
        "def calculate_tangent(curve, point, epsilon=1e-3):\n",
        "    idx = np.where(curve == point)[0][0]\n",
        "    if idx == 0:\n",
        "        return curve[1] - curve[0]\n",
        "    elif idx == len(curve) - 1:\n",
        "        return curve[-1] - curve[-2]\n",
        "    else:\n",
        "        return curve[idx + 1] - curve[idx - 1]"
      ],
      "metadata": {
        "id": "OaI_p5S6AxFD"
      },
      "execution_count": 13,
      "outputs": []
    },
    {
      "cell_type": "code",
      "source": [
        "def complete_curve_with_bezier(P0, P3, curve):\n",
        "    tangent0 = calculate_tangent(curve, P0)\n",
        "    tangent3 = calculate_tangent(curve, P3)\n",
        "    P1, P2 = estimate_control_points(P0, P3, tangent0, tangent3)\n",
        "    bezier_points = bezier_curve(P0, P1, P2, P3)\n",
        "    return bezier_points"
      ],
      "metadata": {
        "id": "GwlxmoN5Azxj"
      },
      "execution_count": 14,
      "outputs": []
    },
    {
      "cell_type": "code",
      "source": [
        "def merge_curves(image, new_curve):\n",
        "    for point in new_curve:\n",
        "        cv2.circle(image, tuple(point.astype(int)), 1, (0, 255, 0), -1)\n",
        "    return image"
      ],
      "metadata": {
        "id": "Z0lddSoOA2KN"
      },
      "execution_count": 15,
      "outputs": []
    },
    {
      "cell_type": "code",
      "source": [
        "from google.colab.patches import cv2_imshow\n",
        "image = cv2.imread('/content/trial.png')\n",
        "gray_image = cv2.cvtColor(image, cv2.COLOR_BGR2GRAY)\n",
        "edges = cv2.Canny(gray_image, 100, 200)\n",
        "contours, _ = cv2.findContours(edges, cv2.RETR_EXTERNAL, cv2.CHAIN_APPROX_NONE)\n",
        "\n",
        "completed_image = image.copy()\n",
        "for curve in contours:\n",
        "    endpoints = find_endpoints(curve)\n",
        "    for i in range(0, len(endpoints), 2):\n",
        "        if i + 1 < len(endpoints):\n",
        "            P0 = endpoints[i]\n",
        "            P3 = endpoints[i + 1]\n",
        "            new_curve = complete_curve_with_bezier(P0, P3, curve)\n",
        "            completed_image = merge_curves(completed_image, new_curve)\n",
        "\n",
        "cv2.imwrite('completed_image.png', completed_image)\n",
        "cv2_imshow(image)\n",
        "cv2_imshow(completed_image)"
      ],
      "metadata": {
        "colab": {
          "base_uri": "https://localhost:8080/",
          "height": 341
        },
        "id": "pbR5w8VxA660",
        "outputId": "862c07b6-8a84-4c6b-cc02-2ebfe42e72f1"
      },
      "execution_count": null,
      "outputs": [
        {
          "output_type": "display_data",
          "data": {
            "text/plain": [
              "<PIL.Image.Image image mode=RGB size=151x162>"
            ],
            "image/png": "[encoded data removed]"
          },
          "metadata": {}
        },
        {
          "output_type": "display_data",
          "data": {
            "text/plain": [
              "<PIL.Image.Image image mode=RGB size=151x162>"
            ],
            "image/png": "[encoded data removed]"
          },
          "metadata": {}
        }
      ]
    },
    {
      "cell_type": "code",
      "source": [
        "def polylines2svg(paths_XYs, svg_path):\n",
        "    W, H = 0, 0\n",
        "    for path_XYs in paths_XYs:\n",
        "        for XY in path_XYs:\n",
        "            W, H = max(W, np.max(XY[:, 0])), max(H, np.max(XY[:, 1]))\n",
        "    padding = 0.1\n",
        "    W, H = int(W + padding * W), int(H + padding * H)\n",
        "\n",
        "    # Create a new SVG drawing\n",
        "    dwg = svgwrite.Drawing(svg_path, profile='tiny',\n",
        "                           shape_rendering='crispEdges')\n",
        "    group = dwg.g()\n",
        "\n",
        "    for i, path in enumerate(paths_XYs):\n",
        "        path_data = []\n",
        "        c = colours[i % len(colours)]\n",
        "        for XY in path:\n",
        "            path_data.append((\"M\", (XY[0, 0], XY[0, 1])))\n",
        "            for j in range(1, len(XY)):\n",
        "                path_data.append((\"L\", (XY[j, 0], XY[j, 1])))\n",
        "            if not np.allclose(XY[0], XY[-1]):\n",
        "                path_data.append((\"Z\", None))\n",
        "        group.add(dwg.path(d=path_data, fill=c,\n",
        "                           stroke='none', stroke_width=2))\n",
        "\n",
        "    dwg.add(group)\n",
        "    dwg.save()\n",
        "\n",
        "    png_path = svg_path.replace('.svg', '.png')\n",
        "    fact = max(1, 1024 // min(H, W))\n",
        "    cairosvg.svg2png(url=svg_path, write_to=png_path,\n",
        "                     parent_width=W, parent_height=H,\n",
        "                     output_width=fact*W, output_height=fact*H,\n",
        "                     background_color='white')\n",
        "\n",
        "    return"
      ],
      "metadata": {
        "id": "Mny7mePyKF7a"
      },
      "execution_count": 18,
      "outputs": []
    }
  ]
}